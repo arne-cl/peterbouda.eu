{
 "metadata": {
  "name": "SymPy Scheibensegment"
 },
 "nbformat": 3,
 "nbformat_minor": 0,
 "worksheets": [
  {
   "cells": [
    {
     "cell_type": "markdown",
     "metadata": {},
     "source": [
      "# Sirup, Scheiben und Kreissegmente mit SymPy\n",
      "\n",
      "Ich lese gerade das durchaus empfehlenswerte Buch <a href=\"http://www.amazon.de/gp/product/048669609X/ref=as_li_qf_sp_asin_tl?ie=UTF8&camp=1638&creative=6742&creativeASIN=048669609X&linkCode=as2&tag=jsusde-21\">Foundations and Fundamental Concepts of Mathematics</a><img src=\"http://www.assoc-amazon.de/e/ir?t=jsusde-21&l=as2&o=3&a=048669609X\" width=\"1\" height=\"1\" border=\"0\" alt=\"\" style=\"border:none !important; margin:0px !important;\" /> von Howard Eves. Das erste Kapitel handelt von vor-Euklidischer Mathematik und schlie\u00dft mit einer Reihe interessanter Aufgaben, \u00fcber die sich schon die Babylonier und Griechen den Kopf zerbrochen haben. Eine besonders sch\u00f6ne Fragestellung geht so (Aufgabe 1.1.5):\n",
      "\n",
      "Eine Scheibe mit Radius R rotiert vertikal an einer horizontalen Achse. Die Scheibe taucht dabei in eine Fl\u00fcssigkeit ein, so dass ein Teil davon benetzt wird. In welcher H\u00f6he muss man die Scheibe \u00fcber der Fl\u00fcssigkeit befestigen, damit die benetzte Fl\u00e4che *\u00fcber* der Fl\u00fcssigkeit maximal wird?\n",
      "\n",
      "Das Problem trat anscheinend bei der Sirupherstellung in der Antike auf. Ich habe das Ganze mal versucht zu zeichnen, die rote Fl\u00e4che soll die gesuchte benetzte Oberfl\u00e4che anzeigen:\n",
      "\n",
      "![Scheibe rotiert \u00fcber Fl\u00fcssigkeit](/static/images/sirupscheibe.png)\n",
      "\n",
      "Man sieht schnell, dass die benetzte Fl\u00e4che durch das Eintauchen zun\u00e4chst einmal gr\u00f6\u00dfer wird. Je tiefer man die Scheibe eintaucht, desto mehr von dieser Fl\u00e4che befindet sich dann aber unter der Oberfl\u00e4che. Wir wollen jetzt also bestimmen, wie tief wir die Scheibe maximal eintauchen d\u00fcrfen, damit die Fl\u00e4che \u00fcber der Fl\u00fcssigkeit m\u00f6glichst gro\u00df bleibt. Dabei l\u00f6sen wir das Problem einmal empirisch, also indem wir alle m\u00f6glichen Werte ausprobieren und schauen bei welchen Werten das Maximum auftritt. So wurde das Problem wohl damals gel\u00f6st, vor Kurvendiskussionen. Danach werden wir die Formel differenzen und daraus das Maximum bestimmten.\n",
      "\n",
      "Zur L\u00f6sung des Problems verwende ich hier die Bibliothek [SymPy](http://sympy.org/). Dieser Text wurde als [IPython Notebook](http://ipython.org/notebook.html) verfasst, dieses gibt es zum Download:\n",
      "\n",
      "\n",
      "\n",
      "## Voraussetzungen\n",
      "\n",
      "Wir setzen voraus, dass wir die Formeln f\u00fcr die Fl\u00e4chen der einzelnen Teile der Scheibe berechnen k\u00f6nnen. Dazu geh\u00f6rt:\n",
      "\n",
      "* der gesamte Fl\u00e4cheninhalt der Scheibe: $$A_1 = R^2\\pi$$\n",
      "* der Ring auf der Scheibe, der insgesamt bei Rotation mit der Fl\u00fcssigkeit in Ber\u00fchrung kommt(wobei `r` dann der H\u00f6he der Achse \u00fcber der Fl\u00fcssigkeit entspricht): $$A_2 = r^2\\pi$$\n",
      "* der Teil der Scheibe, der jeweils unter Wasser ist (siehe http://de.wikipedia.org/wiki/Kreissegment): $$A_3 = R^2\\arccos{r\\over R} - r\\sqrt{R^2 - r^2}$$\n",
      "\n",
      "Die von uns gesuchte Fl\u00e4che ist dann einfach: $$A = A_1 - A_2 - A_3$$\n",
      "also eingesetzt: $$A = R^2\\pi - r^2\\pi - R^2\\arccos{r\\over R} + r\\sqrt{R^2 - r^2}$$\n",
      "\n",
      "Diese Formel k\u00f6nnen wir gleich so in SymPy \u00fcbernehmen:"
     ]
    },
    {
     "cell_type": "code",
     "collapsed": false,
     "input": [
      "from sympy import *\n",
      "%load_ext sympy.interactive.ipythonprinting\n",
      "\n",
      "r, R = symbols(\"r R\")\n",
      "\n",
      "A = R**2*pi - r**2*pi - R**2*acos(r/R) + r*sqrt(R**2 - r**2)\n",
      "A"
     ],
     "language": "python",
     "metadata": {},
     "outputs": [
      {
       "latex": [
        "$$- R^{2} \\operatorname{acos}{\\left (\\frac{r}{R} \\right )} + \\pi R^{2} - \\pi r^{2} + r \\sqrt{R^{2} - r^{2}}$$"
       ],
       "output_type": "pyout",
       "prompt_number": 54,
       "text": [
        "                                  _________\n",
        "   2     \u239br\u239e      2      2       \u2571  2    2 \n",
        "- R \u22c5acos\u239c\u2500\u239f + \u03c0\u22c5R  - \u03c0\u22c5r  + r\u22c5\u2572\u2571  R  - r  \n",
        "         \u239dR\u23a0                               "
       ]
      }
     ],
     "prompt_number": 54
    },
    {
     "cell_type": "markdown",
     "metadata": {},
     "source": [
      "## Empirisches Maximum\n",
      "\n",
      "Als Erstes wollen wir das Maximum empirisch bestimmen, also einfach gegebene Werte f\u00fcr `R` und `r` einsetzen und ausgeben. Dazu k\u00f6nnen wir als zun\u00e4chst `R` einen festen Wert zuweisen, ich nehme einfach 10 f\u00fcr den Radius der Scheibe:"
     ]
    },
    {
     "cell_type": "code",
     "collapsed": false,
     "input": [
      "A_10 = A.subs(R, 10)\n",
      "A_10"
     ],
     "language": "python",
     "metadata": {},
     "outputs": [
      {
       "latex": [
        "$$- \\pi r^{2} + r \\sqrt{- r^{2} + 100} - 100 \\operatorname{acos}{\\left (\\frac{1}{10} r \\right )} + 100 \\pi$$"
       ],
       "output_type": "pyout",
       "prompt_number": 52,
       "text": [
        "              ____________                       \n",
        "     2       \u2571    2                  \u239br \u239e        \n",
        "- \u03c0\u22c5r  + r\u22c5\u2572\u2571  - r  + 100  - 100\u22c5acos\u239c\u2500\u2500\u239f + 100\u22c5\u03c0\n",
        "                                     \u239d10\u23a0        "
       ]
      }
     ],
     "prompt_number": 52
    },
    {
     "cell_type": "markdown",
     "metadata": {},
     "source": [
      "F\u00fcr `r` probieren wir jetzt Werte zwischen 0 und 9:"
     ]
    },
    {
     "cell_type": "code",
     "collapsed": false,
     "input": [
      "for i in range(10):\n",
      "    print(\"{0}/10 -> {1}\".format(i, A_10.subs(r, i).evalf()))"
     ],
     "language": "python",
     "metadata": {},
     "outputs": [
      {
       "output_type": "stream",
       "stream": "stdout",
       "text": [
        "0/10 -> 157.079632679490\n",
        "1/10 -> 173.904656513122\n",
        "2/10 -> 184.244972086429\n",
        "3/10 -> 187.892740241230\n",
        "4/10 -> 184.626440388448\n",
        "5/10 -> 174.200964088797\n",
        "6/10 -> 156.332408029586\n",
        "7/10 -> 130.671341314465\n",
        "8/10 -> 96.7472246499041\n",
        "9/10 -> 53.8176697304459\n"
       ]
      }
     ],
     "prompt_number": 55
    },
    {
     "cell_type": "markdown",
     "metadata": {},
     "source": [
      "Die benetzte Fl\u00e4che ist hier also maximal f\u00fcr `r = 3/10*R` (also `r = 3` f\u00fcr `R = 10`). Wir k\u00f6nnen uns die Werte zwischen 2 und 4 f\u00fcr `r` noch genauer anschauen:"
     ]
    },
    {
     "cell_type": "code",
     "collapsed": false,
     "input": [
      "import numpy\n",
      "for i in [2.0+k*0.1 for k in range(20)]:\n",
      "    print(\"{0}/10 -> {1}\".format(i, A_10.subs(r, i).evalf()))"
     ],
     "language": "python",
     "metadata": {},
     "outputs": [
      {
       "output_type": "stream",
       "stream": "stdout",
       "text": [
        "2.0/10 -> 184.244972086429\n",
        "2.1/10 -> 184.914434156967\n",
        "2.2/10 -> 185.516768466727\n",
        "2.3/10 -> 186.051760290858\n",
        "2.4/10 -> 186.519193409771\n",
        "2.5/10 -> 186.918850022558\n",
        "2.6/10 -> 187.250510657582\n",
        "2.7/10 -> 187.513954080027\n",
        "2.8/10 -> 187.708957196178\n",
        "2.9/10 -> 187.835294954213\n",
        "3.0/10 -> 187.892740241230\n",
        "3.1/10 -> 187.881063776257\n",
        "3.2/10 -> 187.800033998950\n",
        "3.3/10 -> 187.649416953652\n",
        "3.4000000000000004/10 -> 187.428976168492\n",
        "3.5/10 -> 187.138472529157\n",
        "3.6/10 -> 186.777664146939\n",
        "3.7/10 -> 186.346306220629\n",
        "3.8/10 -> 185.844150891815\n",
        "3.9000000000000004/10 -> 185.270947093061\n"
       ]
      }
     ],
     "prompt_number": 27
    },
    {
     "cell_type": "markdown",
     "metadata": {},
     "source": [
      "Hier ist der Wert bei `3.0` maximal. Wir k\u00f6nnen also annehmen, dass die H\u00f6he der Scheibe in etwa `3/10*R` sein sollte. Das ist auch der Wert, der in der Antike berechnet und dann f\u00fcr die H\u00f6he der Scheibe verwendet wurde."
     ]
    },
    {
     "cell_type": "markdown",
     "metadata": {},
     "source": [
      "## Analytisches Maximum"
     ]
    },
    {
     "cell_type": "markdown",
     "metadata": {},
     "source": [
      "Das analytische Maximum bestimmen wir einfach aus der Ableitung von `A` nach `r`:"
     ]
    },
    {
     "cell_type": "code",
     "collapsed": false,
     "input": [
      "A_diff = diff(A, r, 1)\n",
      "A_diff"
     ],
     "language": "python",
     "metadata": {},
     "outputs": [
      {
       "latex": [
        "$$\\frac{R}{\\sqrt{1 - \\frac{r^{2}}{R^{2}}}} - \\frac{r^{2}}{\\sqrt{R^{2} - r^{2}}} - 2 \\pi r + \\sqrt{R^{2} - r^{2}}$$"
       ],
       "output_type": "pyout",
       "prompt_number": 33,
       "text": [
        "                       2                   _________\n",
        "      R               r                   \u2571  2    2 \n",
        "\u2500\u2500\u2500\u2500\u2500\u2500\u2500\u2500\u2500\u2500\u2500\u2500\u2500\u2500 - \u2500\u2500\u2500\u2500\u2500\u2500\u2500\u2500\u2500\u2500\u2500\u2500 - 2\u22c5\u03c0\u22c5r + \u2572\u2571  R  - r  \n",
        "      ________      _________                       \n",
        "     \u2571      2      \u2571  2    2                        \n",
        "    \u2571      r     \u2572\u2571  R  - r                         \n",
        "   \u2571   1 - \u2500\u2500                                       \n",
        "  \u2571         2                                       \n",
        "\u2572\u2571         R                                        "
       ]
      }
     ],
     "prompt_number": 33
    },
    {
     "cell_type": "markdown",
     "metadata": {},
     "source": [
      "Es lohnt sich \u00fcbrigens als \u00dcbung diese Ableitung auch einmal manuell aus der Formel zu berechnen. Um die Extremwerte zu bestimmten setzen wir die Ableitung auf `0`:"
     ]
    },
    {
     "cell_type": "code",
     "collapsed": false,
     "input": [
      "extremwerte = solve(A_diff, r)\n",
      "extremwerte"
     ],
     "language": "python",
     "metadata": {},
     "outputs": [
      {
       "latex": [
        "$$\\begin{bmatrix}- \\frac{\\sqrt{R^{2}}}{\\sqrt{1 + \\pi^{2}}}, & \\frac{\\sqrt{R^{2}}}{\\sqrt{1 + \\pi^{2}}}, & - \\frac{\\pi \\sqrt{R^{2}}}{\\sqrt{1 + \\pi^{2}}}, & \\frac{\\pi \\sqrt{R^{2}}}{\\sqrt{1 + \\pi^{2}}}\\end{bmatrix}$$"
       ],
       "output_type": "pyout",
       "prompt_number": 43,
       "text": [
        "\u23a1      ____        ____           ____        ____ \u23a4\n",
        "\u23a2     \u2571  2        \u2571  2           \u2571  2        \u2571  2  \u23a5\n",
        "\u23a2  -\u2572\u2571  R       \u2572\u2571  R       -\u03c0\u22c5\u2572\u2571  R     \u03c0\u22c5\u2572\u2571  R   \u23a5\n",
        "\u23a2\u2500\u2500\u2500\u2500\u2500\u2500\u2500\u2500\u2500\u2500\u2500, \u2500\u2500\u2500\u2500\u2500\u2500\u2500\u2500\u2500\u2500\u2500, \u2500\u2500\u2500\u2500\u2500\u2500\u2500\u2500\u2500\u2500\u2500, \u2500\u2500\u2500\u2500\u2500\u2500\u2500\u2500\u2500\u2500\u2500\u23a5\n",
        "\u23a2   ________     ________     ________     ________\u23a5\n",
        "\u23a2  \u2571      2     \u2571      2     \u2571      2     \u2571      2 \u23a5\n",
        "\u23a3\u2572\u2571  1 + \u03c0    \u2572\u2571  1 + \u03c0    \u2572\u2571  1 + \u03c0    \u2572\u2571  1 + \u03c0  \u23a6"
       ]
      }
     ],
     "prompt_number": 43
    },
    {
     "cell_type": "markdown",
     "metadata": {},
     "source": [
      "Die negativen Werte k\u00f6nnen wir in diesem Fall beseite lassen. F\u00fcr `R = 10` werden die anderen beiden Extremwerte zu:"
     ]
    },
    {
     "cell_type": "code",
     "collapsed": false,
     "input": [
      "maximum = extremwerte[1].subs(R, 10).evalf()\n",
      "minimum = extremwerte[3].subs(R, 10).evalf()\n",
      "maximum, minimum"
     ],
     "language": "python",
     "metadata": {},
     "outputs": [
      {
       "latex": [
        "$$\\begin{pmatrix}3.03314471053353, & 9.52890513988687\\end{pmatrix}$$"
       ],
       "output_type": "pyout",
       "prompt_number": 48,
       "text": [
        "(3.03314471053353, 9.52890513988687)"
       ]
      }
     ],
     "prompt_number": 48
    },
    {
     "cell_type": "markdown",
     "metadata": {},
     "source": [
      "Das es sich tats\u00e4chlich um ein Maximum und ein Minimum handelt sieht man zum Beispiel, wenn man die Werte in die Formel von `A_10` einsetzt:"
     ]
    },
    {
     "cell_type": "code",
     "collapsed": false,
     "input": [
      "(A_10.subs(r, maximum).evalf(), A_10.subs(r, minimum).evalf())"
     ],
     "language": "python",
     "metadata": {},
     "outputs": [
      {
       "latex": [
        "$$\\begin{pmatrix}187.896539791088, & 26.9881893328488\\end{pmatrix}$$"
       ],
       "output_type": "pyout",
       "prompt_number": 51,
       "text": [
        "(187.896539791088, 26.9881893328488)"
       ]
      }
     ],
     "prompt_number": 51
    },
    {
     "cell_type": "markdown",
     "metadata": {},
     "source": [
      "Alternativ kann man nat\u00fcrlich die zweite Ableitung bem\u00fchen. Das \u00fcberlasse ich dem Leser hiermit als \u00dcbung."
     ]
    }
   ],
   "metadata": {}
  }
 ]
}